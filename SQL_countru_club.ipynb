{
 "cells": [
  {
   "cell_type": "code",
   "execution_count": 2,
   "id": "dba3bf0c",
   "metadata": {},
   "outputs": [],
   "source": [
    "import sqlite3\n",
    "from sqlite3 import*\n",
    "import pandas as pd\n",
    "import sys\n",
    "import os\n"
   ]
  },
  {
   "cell_type": "code",
   "execution_count": 12,
   "id": "2e789cf6",
   "metadata": {},
   "outputs": [
    {
     "ename": "SyntaxError",
     "evalue": "(unicode error) 'unicodeescape' codec can't decode bytes in position 0-1: truncated \\UXXXXXXXX escape (<ipython-input-12-2cd16317a0ba>, line 1)",
     "output_type": "error",
     "traceback": [
      "\u001b[1;36m  File \u001b[1;32m\"<ipython-input-12-2cd16317a0ba>\"\u001b[1;36m, line \u001b[1;32m1\u001b[0m\n\u001b[1;33m    os.chdir('\\Users\\santo\\Downloads\\1602668798_SQLFiles_Tier_2_updated_10_13_2020 (4)\\SQLFiles Tier 2')\u001b[0m\n\u001b[1;37m             ^\u001b[0m\n\u001b[1;31mSyntaxError\u001b[0m\u001b[1;31m:\u001b[0m (unicode error) 'unicodeescape' codec can't decode bytes in position 0-1: truncated \\UXXXXXXXX escape\n"
     ]
    }
   ],
   "source": [
    "os.chdir('\\Users\\santo\\Downloads\\1602668798_SQLFiles_Tier_2_updated_10_13_2020 (4)\\SQLFiles Tier 2')\n",
    "database='\\Users\\santo\\Downloads\\1602668798_SQLFiles_Tier_2_updated_10_13_2020 (4)\\SQLFiles Tier 2\\sqlite_db_pythonsqlite.db'"
   ]
  },
  {
   "cell_type": "code",
   "execution_count": null,
   "id": "7f0b2937",
   "metadata": {},
   "outputs": [],
   "source": [
    "conn=sqlite3.connect(database)\n",
    "cur=conn.cursor()"
   ]
  },
  {
   "cell_type": "code",
   "execution_count": null,
   "id": "ce6942b3",
   "metadata": {},
   "outputs": [],
   "source": [
    "query0=\"\"\"\n",
    "        SELECT name FROM sqlite_master WHERE type='table' ;\n",
    "        \"\"\"\n",
    "cur.execute(query0)\n",
    "rows =cur.fetchall()\n",
    "cur.fetchone()\n",
    "print(rows)\n",
    "print(\" \\n\")"
   ]
  },
  {
   "cell_type": "code",
   "execution_count": null,
   "id": "2807d550",
   "metadata": {},
   "outputs": [],
   "source": [
    "\n",
    "query01=\"\"\"\n",
    "        SELECT name FROM PRAGMA_TABLE_INFO('Members');\n",
    "        \"\"\"\n",
    "cur.execute(query01)\n",
    "rows1 =cur.fetchall()\n",
    "print(rows1)\n",
    "print(\" \\n\")\n",
    "query02=\"\"\"\n",
    "        SELECT name FROM PRAGMA_TABLE_INFO('Bookings');\n",
    "        \"\"\"\n",
    "cur.execute(query02)\n",
    "rows1 =cur.fetchall()\n",
    "print(rows1)\n",
    "print(\" \\n\")\n",
    "query03=\"\"\"\n",
    "        SELECT name FROM PRAGMA_TABLE_INFO('Facilities');\n",
    "        \"\"\"\n",
    "cur.execute(query03)\n",
    "rows1 =cur.fetchall()\n",
    "print(rows1)\n",
    "print(\" \\n\")\n"
   ]
  },
  {
   "cell_type": "code",
   "execution_count": null,
   "id": "94b286ea",
   "metadata": {},
   "outputs": [],
   "source": [
    "#Q1: Some of the facilities charge a fee to members, but some do not. Write a SQL query to produce a list of the names of the facilities that do."
   ]
  },
  {
   "cell_type": "code",
   "execution_count": null,
   "id": "69197b25",
   "metadata": {},
   "outputs": [],
   "source": [
    "query1=\"\"\"\n",
    "SELECT name FROM `Facilities` where membercost>0 ;   \n",
    "\"\"\"\n",
    "cur.execute(query1)\n",
    "rows=cur.fetchall()\n",
    "print(\"name\")\n",
    "for row in rows:\n",
    "    print(row)"
   ]
  },
  {
   "cell_type": "code",
   "execution_count": null,
   "id": "e1657c12",
   "metadata": {},
   "outputs": [],
   "source": [
    "#Q2: How many facilities do not charge a fee to members?"
   ]
  },
  {
   "cell_type": "code",
   "execution_count": 11,
   "id": "6dc967ff",
   "metadata": {},
   "outputs": [
    {
     "ename": "NameError",
     "evalue": "name 'cur' is not defined",
     "output_type": "error",
     "traceback": [
      "\u001b[1;31m---------------------------------------------------------------------------\u001b[0m",
      "\u001b[1;31mNameError\u001b[0m                                 Traceback (most recent call last)",
      "\u001b[1;32m<ipython-input-11-c747917a0b13>\u001b[0m in \u001b[0;36m<module>\u001b[1;34m\u001b[0m\n\u001b[0;32m      2\u001b[0m \u001b[0mSELECT\u001b[0m \u001b[0mcount\u001b[0m\u001b[1;33m(\u001b[0m\u001b[0mname\u001b[0m\u001b[1;33m)\u001b[0m \u001b[0mFROM\u001b[0m\u001b[0;31m \u001b[0m\u001b[0;31m`\u001b[0m\u001b[0mFacilities\u001b[0m\u001b[0;31m`\u001b[0m \u001b[0mwhere\u001b[0m \u001b[0mmembercost\u001b[0m\u001b[1;33m=\u001b[0m\u001b[1;36m0\u001b[0m \u001b[1;33m;\u001b[0m\u001b[1;33m\u001b[0m\u001b[1;33m\u001b[0m\u001b[0m\n\u001b[0;32m      3\u001b[0m \"\"\"\n\u001b[1;32m----> 4\u001b[1;33m \u001b[0mcur\u001b[0m\u001b[1;33m.\u001b[0m\u001b[0mexecute\u001b[0m\u001b[1;33m(\u001b[0m\u001b[0mquery2\u001b[0m\u001b[1;33m)\u001b[0m\u001b[1;33m\u001b[0m\u001b[1;33m\u001b[0m\u001b[0m\n\u001b[0m\u001b[0;32m      5\u001b[0m \u001b[0mrows\u001b[0m\u001b[1;33m=\u001b[0m\u001b[0mcur\u001b[0m\u001b[1;33m.\u001b[0m\u001b[0mfetchall\u001b[0m\u001b[1;33m(\u001b[0m\u001b[1;33m)\u001b[0m\u001b[1;33m\u001b[0m\u001b[1;33m\u001b[0m\u001b[0m\n\u001b[0;32m      6\u001b[0m \u001b[0mprint\u001b[0m\u001b[1;33m(\u001b[0m\u001b[1;34m\"count\"\u001b[0m\u001b[1;33m)\u001b[0m\u001b[1;33m\u001b[0m\u001b[1;33m\u001b[0m\u001b[0m\n",
      "\u001b[1;31mNameError\u001b[0m: name 'cur' is not defined"
     ]
    }
   ],
   "source": [
    "query2=\"\"\"\n",
    "SELECT count(name) FROM `Facilities` where membercost=0 ;   \n",
    "\"\"\"\n",
    "cur.execute(query2)\n",
    "rows=cur.fetchall()\n",
    "print(\"count\")\n",
    "for row in rows:\n",
    "    print(row)"
   ]
  },
  {
   "cell_type": "code",
   "execution_count": null,
   "id": "388b0630",
   "metadata": {},
   "outputs": [],
   "source": [
    "#Q3: Write an SQL query to show a list of facilities that charge a fee to members, where the fee is less than 20% of the facility's monthly maintenance cost. Return the facid, facility name, member cost, and monthly maintenance of the facilities in question."
   ]
  },
  {
   "cell_type": "code",
   "execution_count": null,
   "id": "5d30f9dc",
   "metadata": {},
   "outputs": [],
   "source": [
    "query3=\"\"\"\n",
    "SELECT facid, name, membercost, monthlymaintenance FROM `Facilities` where membercost>0 \n",
    "and membercost<0.2*monthlymaintenance ; \n",
    "\"\"\"\n",
    "cur.execute(query3)\n",
    "rows=cur.fetchall()\n",
    "print(\"facid, name, membercost, monthlymaintenance\")\n",
    "for row in rows:\n",
    "    print(row)"
   ]
  },
  {
   "cell_type": "code",
   "execution_count": null,
   "id": "e3d3b528",
   "metadata": {},
   "outputs": [],
   "source": [
    "#Q4: Write an SQL query to retrieve the details of facilities with ID 1 and 5. Try writing the query without using the OR operator."
   ]
  },
  {
   "cell_type": "code",
   "execution_count": null,
   "id": "437fe1a7",
   "metadata": {},
   "outputs": [],
   "source": [
    "query4=\"\"\"\n",
    "SELECT * FROM `Facilities` where facid in (1,5);\n",
    "\"\"\"\n",
    "cur.execute(query4)\n",
    "rows=cur.fetchall()\n",
    "print(\"bookid, facid, memid, starttime, slots\")\n",
    "for row in rows:\n",
    "    print(row)"
   ]
  },
  {
   "cell_type": "code",
   "execution_count": null,
   "id": "5d836bfd",
   "metadata": {},
   "outputs": [],
   "source": [
    "#Q5: Produce a list of facilities, with each labelled as 'cheap' or 'expensive', depending on if their monthly maintenance cost is more than $100. Return the name and monthly maintenance of the facilities in question."
   ]
  },
  {
   "cell_type": "code",
   "execution_count": null,
   "id": "2ff9e636",
   "metadata": {},
   "outputs": [],
   "source": [
    "query5=\"\"\"\n",
    "SELECT name, monthlymaintenance, CASE WHEN monthlymaintenance > 100 THEN 'expensive' \n",
    "ELSE 'cheap' END as cost FROM `Facilities` ;\n",
    "\"\"\"\n",
    "cur.execute(query5)\n",
    "rows=cur.fetchall()\n",
    "print(\"name, monthlymaintenance, cost\")\n",
    "for row in rows:\n",
    "    print(row)"
   ]
  },
  {
   "cell_type": "code",
   "execution_count": null,
   "id": "26ef91d9",
   "metadata": {},
   "outputs": [],
   "source": [
    "#Q6: You'd like to get the first and last name of the last member(s) who signed up. Try not to use the LIMIT clause for your solution."
   ]
  },
  {
   "cell_type": "code",
   "execution_count": null,
   "id": "57a5caa6",
   "metadata": {},
   "outputs": [],
   "source": [
    "query6=\"\"\"\n",
    "SELECT  firstname, surname  FROM `Members` where joindate=(SELECT max(joindate) FROM `Members`) ;\n",
    "\"\"\"\n",
    "cur.execute(query6)\n",
    "rows=cur.fetchall()\n",
    "print(\"firstname, surname\")\n",
    "for row in rows:\n",
    "    print(row)"
   ]
  },
  {
   "cell_type": "code",
   "execution_count": null,
   "id": "49aec219",
   "metadata": {},
   "outputs": [],
   "source": [
    "#Q7: Produce a list of all members who have used a tennis court. Include in your output the name of the court, and the name of the member formatted as a single column. Ensure no duplicate data, and order by the member name."
   ]
  },
  {
   "cell_type": "code",
   "execution_count": null,
   "id": "3425986e",
   "metadata": {},
   "outputs": [],
   "source": [
    "query7=\"\"\"\n",
    "SELECT  distinct firstname ||' ' || surname  as membername, name as facility From `Members`  \n",
    "join `Bookings` on Members.memid=Bookings.memid join `Facilities` \n",
    "on Bookings.facid=Facilities.facid where name like 'Tennis%' order by membername, facility; \n",
    "\"\"\"\n",
    "cur.execute(query7)\n",
    "rows=cur.fetchall()\n",
    "print(\"membername,facility\")\n",
    "for row in rows:\n",
    "    print(row)"
   ]
  },
  {
   "cell_type": "code",
   "execution_count": null,
   "id": "b214cad2",
   "metadata": {},
   "outputs": [],
   "source": [
    "#Q8: Produce a list of bookings on the day of 2012-09-14 which will cost the member (or guest) more than $30. Remember that guests have different costs to members (the listed costs are per half-hour 'slot'), and the guest user's ID is always 0. Include in your output the name of the facility, the name of the member formatted as a single column, and the cost. Order by descending cost, and do not use any subqueries."
   ]
  },
  {
   "cell_type": "code",
   "execution_count": null,
   "id": "ea04350e",
   "metadata": {},
   "outputs": [],
   "source": [
    "query8=\"\"\"\n",
    "SELECT  name as facility, firstname ||' ' || surname as membername,   \n",
    "CASE WHEN Members.memid=0 THEN guestcost*slots*2 ELSE membercost*slots*2 END \n",
    "as cost  From `Members`  join `Bookings` on Members.memid=Bookings.memid \n",
    "join `Facilities` on Bookings.facid=Facilities.facid where starttime \n",
    "like '2012-09-14%' and ((Members.memid!=0 and membercost*slots*2 >30) \n",
    "or (Members.memid=0 and guestcost*slots*2 >30)) order by cost desc;\n",
    "\"\"\"\n",
    "cur.execute(query8)\n",
    "rows=cur.fetchall()\n",
    "print(\"facility, membername, cost\")\n",
    "for row in rows:\n",
    "    print(row)"
   ]
  },
  {
   "cell_type": "code",
   "execution_count": null,
   "id": "01f9fd29",
   "metadata": {},
   "outputs": [],
   "source": [
    "#Q9: This time, produce the same result as in Q8, but using a subquery."
   ]
  },
  {
   "cell_type": "code",
   "execution_count": null,
   "id": "cbf9dcc8",
   "metadata": {},
   "outputs": [],
   "source": [
    "query9=\"\"\"\n",
    "SELECT  facility, membername, cost from (\n",
    "SELECT  name as facility, firstname ||' ' || surname as membername, Members.memid, slots, membercost, guestcost,  \n",
    "CASE WHEN Members.memid=0 THEN guestcost*slots*2 \n",
    "ELSE membercost*slots*2 END as cost  From `Members`  join `Bookings` \n",
    "on Members.memid=Bookings.memid \n",
    "join `Facilities` on Bookings.facid=Facilities.facid \n",
    "where starttime like '2012-09-14%' ) as bookings_info \n",
    "where cost > 30 order by cost desc; \n",
    "\"\"\"\n",
    "cur.execute(query9)\n",
    "rows=cur.fetchall()\n",
    "print(\"facility, membername, cost\")\n",
    "for row in rows:\n",
    "    print(row)"
   ]
  },
  {
   "cell_type": "code",
   "execution_count": null,
   "id": "d5a266b3",
   "metadata": {},
   "outputs": [],
   "source": [
    "#Q10: Produce a list of facilities with a total revenue less than 1000. The output of facility name and total revenue, sorted by revenue. Remember that there's a different cost for guests and members!"
   ]
  },
  {
   "cell_type": "code",
   "execution_count": null,
   "id": "a5a49502",
   "metadata": {},
   "outputs": [],
   "source": [
    "query10=\"\"\"\n",
    "SELECT  name as facility, sum(CASE WHEN Bookings.memid=0 THEN guestcost*slots*2 \n",
    "ELSE membercost*slots*2 END) as revenue From `Bookings`  join `Facilities` \n",
    "on Bookings.facid=Facilities.facid group by facility having revenue <1000 order by revenue;\n",
    "\"\"\"\n",
    "cur.execute(query10)\n",
    "rows=cur.fetchall()\n",
    "print(\"facility, revenue\")\n",
    "for row in rows:\n",
    "    print(row)"
   ]
  },
  {
   "cell_type": "code",
   "execution_count": null,
   "id": "7aa664f9",
   "metadata": {},
   "outputs": [],
   "source": [
    "#Q11: Produce a report of members and who recommended them in alphabetic surname,firstname order"
   ]
  },
  {
   "cell_type": "code",
   "execution_count": null,
   "id": "00c04668",
   "metadata": {},
   "outputs": [],
   "source": [
    "query11=\"\"\"\n",
    "         SELECT distinct firstname ||' ' ||  surname as member, (select CASE WHEN b.memid=0 THEN ' ' ELSE firstname ||' ' ||  surname END as recommender FROM `Members` b where a.recommendedby=b.memid ) as recommender from `Members` a order by member ;\n",
    "        \"\"\"\n",
    "cur.execute(query11)\n",
    "rows=cur.fetchall()\n",
    "print(\"member, recommender\")\n",
    "for row in rows:\n",
    "    print(row)"
   ]
  },
  {
   "cell_type": "code",
   "execution_count": null,
   "id": "2293e8af",
   "metadata": {},
   "outputs": [],
   "source": [
    "#Q12: Find the facilities with their usage by member, but not guests"
   ]
  },
  {
   "cell_type": "code",
   "execution_count": null,
   "id": "c491e5de",
   "metadata": {},
   "outputs": [],
   "source": [
    "query12=\"\"\"\n",
    "        SELECT  a.facility, count(a.membername) as No_of_members from \n",
    "        (SELECT  distinct name as facility, firstname ||' ' ||  surname as membername  From `Members`  \n",
    "        join `Bookings` on Members.memid=Bookings.memid join `Facilities` \n",
    "        on Bookings.facid=Facilities.facid \n",
    "        where Members.memid!=0 order by membername, facility ) as a group by facility; \n",
    "        \"\"\"\n",
    "cur.execute(query12)\n",
    "rows = cur.fetchall()\n",
    "print(\"facility,No_of_members\")\n",
    "for row in rows:\n",
    "    print(row)  "
   ]
  },
  {
   "cell_type": "code",
   "execution_count": null,
   "id": "36cb8a74",
   "metadata": {},
   "outputs": [],
   "source": [
    "#Q13: Find the facilities usage by month, but not guests"
   ]
  },
  {
   "cell_type": "code",
   "execution_count": null,
   "id": "359f902b",
   "metadata": {},
   "outputs": [],
   "source": [
    "query13=\"\"\"\n",
    "         select name as facility, a.month, count(name) as facility_usage from `Facilities` join (SELECT facid, strftime('%m',starttime) as month, starttime  from `Bookings` where Bookings.memid!=0) as a on a.facid=Facilities.facid group by a.month, facility ;\n",
    "        \"\"\"\n",
    "cur.execute(query13)\n",
    "rows = cur.fetchall()\n",
    "print(\"facility,month,facility_usage\")\n",
    "for row in rows:\n",
    "    print(row)"
   ]
  },
  {
   "cell_type": "code",
   "execution_count": null,
   "id": "e3dcad29",
   "metadata": {},
   "outputs": [],
   "source": []
  },
  {
   "cell_type": "code",
   "execution_count": null,
   "id": "0986f0aa",
   "metadata": {},
   "outputs": [],
   "source": []
  },
  {
   "cell_type": "code",
   "execution_count": null,
   "id": "c9eeecc6",
   "metadata": {},
   "outputs": [],
   "source": []
  },
  {
   "cell_type": "code",
   "execution_count": null,
   "id": "93075e1b",
   "metadata": {},
   "outputs": [],
   "source": []
  }
 ],
 "metadata": {
  "kernelspec": {
   "display_name": "Python 3",
   "language": "python",
   "name": "python3"
  },
  "language_info": {
   "codemirror_mode": {
    "name": "ipython",
    "version": 3
   },
   "file_extension": ".py",
   "mimetype": "text/x-python",
   "name": "python",
   "nbconvert_exporter": "python",
   "pygments_lexer": "ipython3",
   "version": "3.8.8"
  }
 },
 "nbformat": 4,
 "nbformat_minor": 5
}
